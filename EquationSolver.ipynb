{
 "cells": [
  {
   "cell_type": "markdown",
   "metadata": {},
   "source": [
    "# The following script is used in an attempt to use GA to solve a simple equations. Designed by Michalis Hadjiandreou on 8 March 2021"
   ]
  },
  {
   "cell_type": "code",
   "execution_count": 1,
   "metadata": {},
   "outputs": [],
   "source": [
    "import numpy as np\n",
    "import pandas as pd\n",
    "import random\n",
    "%matplotlib inline"
   ]
  },
  {
   "cell_type": "markdown",
   "metadata": {},
   "source": [
    "# The equation to be solved is\n",
    "$5a-3b+6c+d-7e+2f=-36$"
   ]
  },
  {
   "cell_type": "markdown",
   "metadata": {},
   "source": [
    "# Identify and initialise the chromosomes of this case"
   ]
  },
  {
   "cell_type": "markdown",
   "metadata": {},
   "source": [
    "## The chromosomes are the actual solution values that satsify the above equation. Thus one chromosome would be of the format [a,b,c,d,e,f]"
   ]
  },
  {
   "cell_type": "markdown",
   "metadata": {},
   "source": [
    "## We choose arbitrarily the boundaries of our search from -10 to 10 for all values"
   ]
  },
  {
   "cell_type": "markdown",
   "metadata": {},
   "source": [
    "## We also decide that our population size will be 8 samples"
   ]
  },
  {
   "cell_type": "code",
   "execution_count": 2,
   "metadata": {},
   "outputs": [],
   "source": [
    "lowerbound = -10\n",
    "upperbound = 10   \n",
    "popsize = 8\n",
    "lenChromo = 6"
   ]
  },
  {
   "cell_type": "code",
   "execution_count": 3,
   "metadata": {},
   "outputs": [],
   "source": [
    "def randomize(lowerbound,upperbound,lenChromo):\n",
    "    randomlist = []\n",
    "    \n",
    "    for count in range(lenChromo):\n",
    "        randomlist.append(random.uniform(lowerbound,upperbound))\n",
    "        \n",
    "    return randomlist    "
   ]
  },
  {
   "cell_type": "code",
   "execution_count": 6,
   "metadata": {},
   "outputs": [
    {
     "data": {
      "text/plain": [
       "array([ 9.6071613 , -2.38969646,  3.75283521,  0.19426403,  9.92902079,\n",
       "        9.79899797])"
      ]
     },
     "execution_count": 6,
     "metadata": {},
     "output_type": "execute_result"
    }
   ],
   "source": [
    "population = []\n",
    "for count in range(popsize):\n",
    "    population.append(randomize(lowerbound,upperbound,lenChromo))\n",
    "    \n",
    "population = np.array(population)\n",
    "population[0,:]"
   ]
  },
  {
   "cell_type": "markdown",
   "metadata": {},
   "source": [
    "# Decide on our fitness function. In this case it is straightforward since the analytical solution would involve the combination of coefficients such that when substituted in the equation should return -36. Thus we are looking for the fitness function to measure the ABSOLUTE difference of the chromosome evaluation from the analytical answer"
   ]
  },
  {
   "cell_type": "code",
   "execution_count": 14,
   "metadata": {},
   "outputs": [],
   "source": [
    "exactresult = -36\n",
    "\n",
    "def chromoEval(arr):\n",
    "    return 5*arr[0]-3*arr[1]+6*arr[2]+arr[3]-7*arr[4]+2*arr[5]\n",
    "\n",
    "def score(arr,exactresult):\n",
    "    return abs(chromoEval(arr)-exactresult)\n",
    "\n",
    "scores = []\n",
    "popdict = {}\n",
    "for count in range(popsize):\n",
    "    scores.append(score(population[count,:],exactresult))\n",
    "    popdict[scores[-1]]=population[count,:]\n"
   ]
  },
  {
   "cell_type": "code",
   "execution_count": 63,
   "metadata": {},
   "outputs": [
    {
     "data": {
      "text/html": [
       "<div>\n",
       "<style scoped>\n",
       "    .dataframe tbody tr th:only-of-type {\n",
       "        vertical-align: middle;\n",
       "    }\n",
       "\n",
       "    .dataframe tbody tr th {\n",
       "        vertical-align: top;\n",
       "    }\n",
       "\n",
       "    .dataframe thead th {\n",
       "        text-align: right;\n",
       "    }\n",
       "</style>\n",
       "<table border=\"1\" class=\"dataframe\">\n",
       "  <thead>\n",
       "    <tr style=\"text-align: right;\">\n",
       "      <th></th>\n",
       "      <th>Score</th>\n",
       "      <th>Chromosomes</th>\n",
       "    </tr>\n",
       "  </thead>\n",
       "  <tbody>\n",
       "    <tr>\n",
       "      <th>0</th>\n",
       "      <td>96.417112</td>\n",
       "      <td>[8.006573176597001, -2.042022839809774, -6.426...</td>\n",
       "    </tr>\n",
       "    <tr>\n",
       "      <th>1</th>\n",
       "      <td>64.011022</td>\n",
       "      <td>[9.607161297210915, -2.38969646141231, 3.75283...</td>\n",
       "    </tr>\n",
       "    <tr>\n",
       "      <th>2</th>\n",
       "      <td>50.311489</td>\n",
       "      <td>[1.3467675146675475, 8.755369172138096, -3.436...</td>\n",
       "    </tr>\n",
       "    <tr>\n",
       "      <th>3</th>\n",
       "      <td>50.280388</td>\n",
       "      <td>[1.6405015504833251, -7.186874250052043, 3.594...</td>\n",
       "    </tr>\n",
       "  </tbody>\n",
       "</table>\n",
       "</div>"
      ],
      "text/plain": [
       "       Score                                        Chromosomes\n",
       "0  96.417112  [8.006573176597001, -2.042022839809774, -6.426...\n",
       "1  64.011022  [9.607161297210915, -2.38969646141231, 3.75283...\n",
       "2  50.311489  [1.3467675146675475, 8.755369172138096, -3.436...\n",
       "3  50.280388  [1.6405015504833251, -7.186874250052043, 3.594..."
      ]
     },
     "execution_count": 63,
     "metadata": {},
     "output_type": "execute_result"
    }
   ],
   "source": [
    "topNum = 4\n",
    "\n",
    "def select(topNum,popdict):\n",
    "    result = []\n",
    "    tempdict = (sorted(popdict.items(), key=lambda item: item[0],reverse=True)[:topNum])\n",
    "    \n",
    "    #for count in range(topNum):\n",
    "        #result.append(tempdict{count,1})\n",
    "    \n",
    "    return tempdict\n",
    "\n",
    "\n",
    "tempdict = select(topNum,popdict)\n",
    "df = pd.DataFrame(data=tempdict,columns=['Score','Chromosomes'])\n",
    "df.head()"
   ]
  },
  {
   "cell_type": "code",
   "execution_count": null,
   "metadata": {},
   "outputs": [],
   "source": []
  },
  {
   "cell_type": "code",
   "execution_count": null,
   "metadata": {},
   "outputs": [],
   "source": []
  }
 ],
 "metadata": {
  "kernelspec": {
   "display_name": "Python 3",
   "language": "python",
   "name": "python3"
  },
  "language_info": {
   "codemirror_mode": {
    "name": "ipython",
    "version": 3
   },
   "file_extension": ".py",
   "mimetype": "text/x-python",
   "name": "python",
   "nbconvert_exporter": "python",
   "pygments_lexer": "ipython3",
   "version": "3.7.6"
  }
 },
 "nbformat": 4,
 "nbformat_minor": 4
}
